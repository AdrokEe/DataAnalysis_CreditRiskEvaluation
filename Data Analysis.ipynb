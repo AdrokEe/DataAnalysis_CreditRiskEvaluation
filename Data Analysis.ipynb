{
 "cells": [
  {
   "cell_type": "markdown",
   "id": "93fbac31-e679-440b-937e-038547c353ad",
   "metadata": {},
   "source": [
    "# 德国信贷风险评估报告\n",
    "本信贷风险评估报告数据源来自: https://www.kaggle.com/datasets/uciml/german-credit\n",
    "\n",
    "## 背景:\n",
    "原始数据集包含由 Prof. Homann 收集的 1000 个条目, 具有20 个属性. 在数据集中, 每个条目代表一个接收银行信贷的人. 根据属性集, 每个人都被划分为良好或不良信用风险.\n",
    "\n",
    "## 内容:\n",
    "> 1. Age (numeric)\n",
    "> 2. Sex (text: male, femal)\n",
    "> 3. Job (numeric: 0 - unskilled and none - resident, 1 - unskilled and resident, 2 - skilled, 3 - highly skilled)\n",
    "> 4. Housing (text: own, rent, free)\n",
    "> 5. Saving accounts (text - little, moderate, quite rich, rich)\n",
    "> 6. Checking account (numeric, in DM - Deutsch Mark)\n",
    "> 7. Credit amount (numeric, in DM)\n",
    "> 8. Duration (numeric, in month)\n",
    "> 9. Purpose (text: car, furniture/equipment, radio/TV, domestic appliances, repairs, education, business, vacation/others)\n",
    "> 10. Risk (Value target - Good or Bad Risk)"
   ]
  }
 ],
 "metadata": {
  "kernelspec": {
   "display_name": "Python 3 (ipykernel)",
   "language": "python",
   "name": "python3"
  },
  "language_info": {
   "codemirror_mode": {
    "name": "ipython",
    "version": 3
   },
   "file_extension": ".py",
   "mimetype": "text/x-python",
   "name": "python",
   "nbconvert_exporter": "python",
   "pygments_lexer": "ipython3",
   "version": "3.11.3"
  }
 },
 "nbformat": 4,
 "nbformat_minor": 5
}
